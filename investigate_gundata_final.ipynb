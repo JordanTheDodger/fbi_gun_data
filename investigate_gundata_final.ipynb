{
 "cells": [
  {
   "cell_type": "markdown",
   "metadata": {},
   "source": [
    "# Investigating NICS Firearm Background Checks with FBI Gun Data\n",
    "\n",
    "## Table of Contents\n",
    "<ul>\n",
    "<li><a href=\"#intro\">Introduction</a></li>\n",
    "<li><a href=\"#wrangling\">Data Wrangling</a></li>\n",
    "<li><a href=\"#datacleaning\">Data Cleaning</a></li>\n",
    "<li><a href=\"#eda\">Exploratory Data Analysis</a></li>\n",
    "<li><a href=\"#conclusions\">Conclusions</a></li>\n",
    "<li><a href=\"#sourceindex\">Source Index</a></li>\n",
    "</ul>"
   ]
  },
  {
   "cell_type": "markdown",
   "metadata": {},
   "source": [
    "<a id='intro'></a>\n",
    "## Introduction\n",
    "\n",
    "This data comes from the <a href=\"https://www.fbi.gov/services/cjis/nics\">FBI's National Instant Criminal Background Check System</a>. From the official site:\n",
    "\n",
    "> Mandated by the Brady Handgun Violence Prevention Act of 1993 and launched by the FBI on November 30, 1998, NICS is used by Federal Firearms Licensees (FFLs) to instantly determine whether a prospective buyer is eligible to buy firearms. Before ringing up the sale, cashiers call in a check to the FBI or to other designated agencies to ensure that each customer does not have a criminal record or isn’t otherwise ineligible to make a purchase. More than 230 million such checks have been made, leading to more than 1.3 million denials.\n",
    "\n",
    "Before moving onto the meat of this investigation, I want to bring up a few notes."
   ]
  },
  {
   "cell_type": "markdown",
   "metadata": {},
   "source": [
    "#### Firearm Background Checks Do Not Equal Sales\n",
    "\n",
    "At the beginning of this project, I wanted to use the data to calculate gun sales. It turns out that calculating this statistic is more complex than you would think.\n",
    "\n",
    "In the <a href='https://www.fbi.gov/file-repository/nics_firearm_checks_-_month_year_by_state_type.pdf/vieworiginal'>PDF files</a> the FBI provides, there is an important note:\n",
    "\n",
    ">These statistics represent the number of firearm background checks initiated through the NICS They do not represent the number of firearms sold Based on varying state laws and purchase scenarios, a one-to-one correlation cannot be made between a firearm background check and a firearm sale\n",
    "\n",
    "Even though a one-to-one correlation cannot be made between a check and a sale, some organizations have estimated gun sales with this data. For example, the <a href='https://www.nytimes.com/interactive/2015/12/10/us/gun-sales-terrorism-obama-restrictions.html'>New York Times</a> used a method suggested in the <a href='http://www.smallarmssurvey.org/fileadmin/docs/F-Working-papers/SAS-WP14-US-Firearms-Industry.pdf'>Small Arms Survey</a> by Jurgen Brauer, a professor at Georgia Regents University. Long gun and handgun checks were counted as 1.1 sales, and multiple-gun checks were counted as two sales. Permit and other types of checks were omitted. The mulitplier used in the survey were based on interviews Mr. Brauer had with gun shop owners.\n",
    "\n",
    "So background checks do not equal sales, but you can have a grasp of what gun sales are by visualizing this data."
   ]
  },
  {
   "cell_type": "markdown",
   "metadata": {},
   "source": [
    "#### States cannot be directly compared\n",
    "\n",
    "In the visualization section, you will see statistics by state in some of the graphs. When looking at these, keep in mind that even though you can estimate gun sales using the NICS background check data, state laws for firearms differ from each other all across the nation. Even knowing this, the statistics between each state were still very interesting to learn about."
   ]
  },
  {
   "cell_type": "markdown",
   "metadata": {},
   "source": [
    "<a id='wrangling'></a>\n",
    "# Data Wrangling\n",
    "\n",
    "### The Gun Data\n",
    "\n",
    "The data used to explore the firearm background checks can be downloaded from a <a href='https://github.com/BuzzFeedNews/nics-firearm-background-checks'>BuzzFeed News GitHub repository here</a>.\n",
    "\n",
    ">The code in this GitHub repository downloads that PDF, parses it, and produces a spreadsheet/CSV of the data. <a href='https://raw.githubusercontent.com/BuzzFeedNews/nics-firearm-background-checks/master/data/nics-firearm-background-checks.csv'>Click here to download the data</a>, which currently covers November 1998 – February 2018.\n",
    "\n",
    "### The Census Data\n",
    "\n",
    "The population numbers come from the the United States Census government website <a href='https://www.census.gov/data/tables/2017/demo/popest/nation-total.html#ds'>here</a>. This data has annual estimates of the resident population for the U.S. from April 1, 2010 to July 1, 2017.\n",
    "\n",
    "While exploring this data, I realized that I needed numbers for <a href='https://factfinder.census.gov/faces/tableservices/jsf/pages/productview.xhtml?pid=ACS_16_1YR_B09001&prodType=table'>children under 18 within each state</a>. As you'll see in the visualization, this was used to calculate how many people were of age to recieve a background check while buying a gun. That number was then used to calculate the percentage of checks compared to the population of that state."
   ]
  },
  {
   "cell_type": "markdown",
   "metadata": {},
   "source": [
    "Let's explore."
   ]
  },
  {
   "cell_type": "code",
   "execution_count": 25,
   "metadata": {
    "collapsed": true
   },
   "outputs": [],
   "source": [
    "import pandas as pd\n",
    "import numpy as np\n",
    "import matplotlib.pyplot as plt\n",
    "import seaborn as sns\n",
    "% matplotlib inline"
   ]
  },
  {
   "cell_type": "code",
   "execution_count": 26,
   "metadata": {},
   "outputs": [],
   "source": [
    "df_c17 = pd.read_csv('nst-est2017-01.csv')\n",
    "df_gun = pd.read_csv('nics-firearm-background-checks.csv')"
   ]
  },
  {
   "cell_type": "code",
   "execution_count": 27,
   "metadata": {},
   "outputs": [
    {
     "data": {
      "text/html": [
       "<div>\n",
       "<style scoped>\n",
       "    .dataframe tbody tr th:only-of-type {\n",
       "        vertical-align: middle;\n",
       "    }\n",
       "\n",
       "    .dataframe tbody tr th {\n",
       "        vertical-align: top;\n",
       "    }\n",
       "\n",
       "    .dataframe thead th {\n",
       "        text-align: right;\n",
       "    }\n",
       "</style>\n",
       "<table border=\"1\" class=\"dataframe\">\n",
       "  <thead>\n",
       "    <tr style=\"text-align: right;\">\n",
       "      <th></th>\n",
       "      <th>month</th>\n",
       "      <th>state</th>\n",
       "      <th>permit</th>\n",
       "      <th>permit_recheck</th>\n",
       "      <th>handgun</th>\n",
       "      <th>long_gun</th>\n",
       "      <th>other</th>\n",
       "      <th>multiple</th>\n",
       "      <th>admin</th>\n",
       "      <th>prepawn_handgun</th>\n",
       "      <th>...</th>\n",
       "      <th>returned_other</th>\n",
       "      <th>rentals_handgun</th>\n",
       "      <th>rentals_long_gun</th>\n",
       "      <th>private_sale_handgun</th>\n",
       "      <th>private_sale_long_gun</th>\n",
       "      <th>private_sale_other</th>\n",
       "      <th>return_to_seller_handgun</th>\n",
       "      <th>return_to_seller_long_gun</th>\n",
       "      <th>return_to_seller_other</th>\n",
       "      <th>totals</th>\n",
       "    </tr>\n",
       "  </thead>\n",
       "  <tbody>\n",
       "    <tr>\n",
       "      <th>0</th>\n",
       "      <td>2018-02</td>\n",
       "      <td>Alabama</td>\n",
       "      <td>24547.0</td>\n",
       "      <td>0.0</td>\n",
       "      <td>9220.0</td>\n",
       "      <td>7172.0</td>\n",
       "      <td>353.0</td>\n",
       "      <td>490</td>\n",
       "      <td>0.0</td>\n",
       "      <td>15.0</td>\n",
       "      <td>...</td>\n",
       "      <td>0.0</td>\n",
       "      <td>0.0</td>\n",
       "      <td>0.0</td>\n",
       "      <td>29.0</td>\n",
       "      <td>39.0</td>\n",
       "      <td>4.0</td>\n",
       "      <td>0.0</td>\n",
       "      <td>1.0</td>\n",
       "      <td>2.0</td>\n",
       "      <td>45171</td>\n",
       "    </tr>\n",
       "    <tr>\n",
       "      <th>1</th>\n",
       "      <td>2018-02</td>\n",
       "      <td>Alaska</td>\n",
       "      <td>214.0</td>\n",
       "      <td>0.0</td>\n",
       "      <td>2279.0</td>\n",
       "      <td>1948.0</td>\n",
       "      <td>268.0</td>\n",
       "      <td>166</td>\n",
       "      <td>0.0</td>\n",
       "      <td>2.0</td>\n",
       "      <td>...</td>\n",
       "      <td>0.0</td>\n",
       "      <td>0.0</td>\n",
       "      <td>0.0</td>\n",
       "      <td>17.0</td>\n",
       "      <td>5.0</td>\n",
       "      <td>6.0</td>\n",
       "      <td>0.0</td>\n",
       "      <td>0.0</td>\n",
       "      <td>0.0</td>\n",
       "      <td>5392</td>\n",
       "    </tr>\n",
       "    <tr>\n",
       "      <th>2</th>\n",
       "      <td>2018-02</td>\n",
       "      <td>Arizona</td>\n",
       "      <td>6513.0</td>\n",
       "      <td>435.0</td>\n",
       "      <td>14966.0</td>\n",
       "      <td>9058.0</td>\n",
       "      <td>1341.0</td>\n",
       "      <td>934</td>\n",
       "      <td>0.0</td>\n",
       "      <td>15.0</td>\n",
       "      <td>...</td>\n",
       "      <td>0.0</td>\n",
       "      <td>0.0</td>\n",
       "      <td>0.0</td>\n",
       "      <td>20.0</td>\n",
       "      <td>18.0</td>\n",
       "      <td>5.0</td>\n",
       "      <td>0.0</td>\n",
       "      <td>2.0</td>\n",
       "      <td>0.0</td>\n",
       "      <td>36281</td>\n",
       "    </tr>\n",
       "    <tr>\n",
       "      <th>3</th>\n",
       "      <td>2018-02</td>\n",
       "      <td>Arkansas</td>\n",
       "      <td>4341.0</td>\n",
       "      <td>970.0</td>\n",
       "      <td>7671.0</td>\n",
       "      <td>6405.0</td>\n",
       "      <td>338.0</td>\n",
       "      <td>614</td>\n",
       "      <td>48.0</td>\n",
       "      <td>18.0</td>\n",
       "      <td>...</td>\n",
       "      <td>0.0</td>\n",
       "      <td>0.0</td>\n",
       "      <td>0.0</td>\n",
       "      <td>24.0</td>\n",
       "      <td>33.0</td>\n",
       "      <td>3.0</td>\n",
       "      <td>0.0</td>\n",
       "      <td>0.0</td>\n",
       "      <td>0.0</td>\n",
       "      <td>24266</td>\n",
       "    </tr>\n",
       "    <tr>\n",
       "      <th>4</th>\n",
       "      <td>2018-02</td>\n",
       "      <td>California</td>\n",
       "      <td>39165.0</td>\n",
       "      <td>0.0</td>\n",
       "      <td>38531.0</td>\n",
       "      <td>24768.0</td>\n",
       "      <td>3940.0</td>\n",
       "      <td>0</td>\n",
       "      <td>0.0</td>\n",
       "      <td>0.0</td>\n",
       "      <td>...</td>\n",
       "      <td>0.0</td>\n",
       "      <td>0.0</td>\n",
       "      <td>0.0</td>\n",
       "      <td>0.0</td>\n",
       "      <td>0.0</td>\n",
       "      <td>0.0</td>\n",
       "      <td>0.0</td>\n",
       "      <td>0.0</td>\n",
       "      <td>0.0</td>\n",
       "      <td>107649</td>\n",
       "    </tr>\n",
       "  </tbody>\n",
       "</table>\n",
       "<p>5 rows × 27 columns</p>\n",
       "</div>"
      ],
      "text/plain": [
       "     month       state   permit  permit_recheck  handgun  long_gun   other  \\\n",
       "0  2018-02     Alabama  24547.0             0.0   9220.0    7172.0   353.0   \n",
       "1  2018-02      Alaska    214.0             0.0   2279.0    1948.0   268.0   \n",
       "2  2018-02     Arizona   6513.0           435.0  14966.0    9058.0  1341.0   \n",
       "3  2018-02    Arkansas   4341.0           970.0   7671.0    6405.0   338.0   \n",
       "4  2018-02  California  39165.0             0.0  38531.0   24768.0  3940.0   \n",
       "\n",
       "   multiple  admin  prepawn_handgun   ...    returned_other  rentals_handgun  \\\n",
       "0       490    0.0             15.0   ...               0.0              0.0   \n",
       "1       166    0.0              2.0   ...               0.0              0.0   \n",
       "2       934    0.0             15.0   ...               0.0              0.0   \n",
       "3       614   48.0             18.0   ...               0.0              0.0   \n",
       "4         0    0.0              0.0   ...               0.0              0.0   \n",
       "\n",
       "   rentals_long_gun  private_sale_handgun  private_sale_long_gun  \\\n",
       "0               0.0                  29.0                   39.0   \n",
       "1               0.0                  17.0                    5.0   \n",
       "2               0.0                  20.0                   18.0   \n",
       "3               0.0                  24.0                   33.0   \n",
       "4               0.0                   0.0                    0.0   \n",
       "\n",
       "   private_sale_other  return_to_seller_handgun  return_to_seller_long_gun  \\\n",
       "0                 4.0                       0.0                        1.0   \n",
       "1                 6.0                       0.0                        0.0   \n",
       "2                 5.0                       0.0                        2.0   \n",
       "3                 3.0                       0.0                        0.0   \n",
       "4                 0.0                       0.0                        0.0   \n",
       "\n",
       "   return_to_seller_other  totals  \n",
       "0                     2.0   45171  \n",
       "1                     0.0    5392  \n",
       "2                     0.0   36281  \n",
       "3                     0.0   24266  \n",
       "4                     0.0  107649  \n",
       "\n",
       "[5 rows x 27 columns]"
      ]
     },
     "execution_count": 27,
     "metadata": {},
     "output_type": "execute_result"
    }
   ],
   "source": [
    "df_gun.head()"
   ]
  },
  {
   "cell_type": "code",
   "execution_count": 28,
   "metadata": {
    "collapsed": true
   },
   "outputs": [
    {
     "data": {
      "text/plain": [
       "(12760, 27)"
      ]
     },
     "execution_count": 28,
     "metadata": {},
     "output_type": "execute_result"
    }
   ],
   "source": [
    "df_gun.shape"
   ]
  },
  {
   "cell_type": "code",
   "execution_count": 29,
   "metadata": {},
   "outputs": [
    {
     "name": "stdout",
     "output_type": "stream",
     "text": [
      "<class 'pandas.core.frame.DataFrame'>\n",
      "RangeIndex: 12760 entries, 0 to 12759\n",
      "Data columns (total 27 columns):\n",
      "month                        12760 non-null object\n",
      "state                        12760 non-null object\n",
      "permit                       12736 non-null float64\n",
      "permit_recheck               1375 non-null float64\n",
      "handgun                      12740 non-null float64\n",
      "long_gun                     12741 non-null float64\n",
      "other                        5775 non-null float64\n",
      "multiple                     12760 non-null int64\n",
      "admin                        12737 non-null float64\n",
      "prepawn_handgun              10817 non-null float64\n",
      "prepawn_long_gun             10815 non-null float64\n",
      "prepawn_other                5390 non-null float64\n",
      "redemption_handgun           10820 non-null float64\n",
      "redemption_long_gun          10819 non-null float64\n",
      "redemption_other             5390 non-null float64\n",
      "returned_handgun             2475 non-null float64\n",
      "returned_long_gun            2420 non-null float64\n",
      "returned_other               2090 non-null float64\n",
      "rentals_handgun              1265 non-null float64\n",
      "rentals_long_gun             1100 non-null float64\n",
      "private_sale_handgun         3025 non-null float64\n",
      "private_sale_long_gun        3025 non-null float64\n",
      "private_sale_other           3025 non-null float64\n",
      "return_to_seller_handgun     2750 non-null float64\n",
      "return_to_seller_long_gun    3025 non-null float64\n",
      "return_to_seller_other       2530 non-null float64\n",
      "totals                       12760 non-null int64\n",
      "dtypes: float64(23), int64(2), object(2)\n",
      "memory usage: 2.6+ MB\n"
     ]
    }
   ],
   "source": [
    "df_gun.info()"
   ]
  },
  {
   "cell_type": "markdown",
   "metadata": {},
   "source": [
    "\n",
    "\n",
    "\n",
    "#### Luckily, this dataset is pretty clean. All numbers are floats, so we can quickly get some statistics\n"
   ]
  },
  {
   "cell_type": "code",
   "execution_count": 30,
   "metadata": {},
   "outputs": [
    {
     "data": {
      "text/html": [
       "<div>\n",
       "<style scoped>\n",
       "    .dataframe tbody tr th:only-of-type {\n",
       "        vertical-align: middle;\n",
       "    }\n",
       "\n",
       "    .dataframe tbody tr th {\n",
       "        vertical-align: top;\n",
       "    }\n",
       "\n",
       "    .dataframe thead th {\n",
       "        text-align: right;\n",
       "    }\n",
       "</style>\n",
       "<table border=\"1\" class=\"dataframe\">\n",
       "  <thead>\n",
       "    <tr style=\"text-align: right;\">\n",
       "      <th></th>\n",
       "      <th>permit</th>\n",
       "      <th>permit_recheck</th>\n",
       "      <th>handgun</th>\n",
       "      <th>long_gun</th>\n",
       "      <th>other</th>\n",
       "      <th>multiple</th>\n",
       "      <th>admin</th>\n",
       "      <th>prepawn_handgun</th>\n",
       "      <th>prepawn_long_gun</th>\n",
       "      <th>prepawn_other</th>\n",
       "      <th>...</th>\n",
       "      <th>returned_other</th>\n",
       "      <th>rentals_handgun</th>\n",
       "      <th>rentals_long_gun</th>\n",
       "      <th>private_sale_handgun</th>\n",
       "      <th>private_sale_long_gun</th>\n",
       "      <th>private_sale_other</th>\n",
       "      <th>return_to_seller_handgun</th>\n",
       "      <th>return_to_seller_long_gun</th>\n",
       "      <th>return_to_seller_other</th>\n",
       "      <th>totals</th>\n",
       "    </tr>\n",
       "  </thead>\n",
       "  <tbody>\n",
       "    <tr>\n",
       "      <th>count</th>\n",
       "      <td>12736.000000</td>\n",
       "      <td>1375.000000</td>\n",
       "      <td>12740.000000</td>\n",
       "      <td>12741.000000</td>\n",
       "      <td>5775.000000</td>\n",
       "      <td>12760.000000</td>\n",
       "      <td>12737.000000</td>\n",
       "      <td>10817.000000</td>\n",
       "      <td>10815.000000</td>\n",
       "      <td>5390.000000</td>\n",
       "      <td>...</td>\n",
       "      <td>2090.000000</td>\n",
       "      <td>1265.000000</td>\n",
       "      <td>1100.000000</td>\n",
       "      <td>3025.000000</td>\n",
       "      <td>3025.000000</td>\n",
       "      <td>3025.000000</td>\n",
       "      <td>2750.000000</td>\n",
       "      <td>3025.000000</td>\n",
       "      <td>2530.000000</td>\n",
       "      <td>12760.000000</td>\n",
       "    </tr>\n",
       "    <tr>\n",
       "      <th>mean</th>\n",
       "      <td>6610.938128</td>\n",
       "      <td>1326.202182</td>\n",
       "      <td>6059.709262</td>\n",
       "      <td>7845.176281</td>\n",
       "      <td>378.960866</td>\n",
       "      <td>271.361834</td>\n",
       "      <td>58.141949</td>\n",
       "      <td>4.871499</td>\n",
       "      <td>7.787887</td>\n",
       "      <td>0.188868</td>\n",
       "      <td>...</td>\n",
       "      <td>1.085167</td>\n",
       "      <td>0.107510</td>\n",
       "      <td>0.107273</td>\n",
       "      <td>17.233058</td>\n",
       "      <td>13.771570</td>\n",
       "      <td>1.231736</td>\n",
       "      <td>0.432727</td>\n",
       "      <td>0.481983</td>\n",
       "      <td>0.108696</td>\n",
       "      <td>22012.392085</td>\n",
       "    </tr>\n",
       "    <tr>\n",
       "      <th>std</th>\n",
       "      <td>24700.643313</td>\n",
       "      <td>10282.508342</td>\n",
       "      <td>8796.577531</td>\n",
       "      <td>9311.128953</td>\n",
       "      <td>1337.569194</td>\n",
       "      <td>779.820198</td>\n",
       "      <td>599.162551</td>\n",
       "      <td>10.927737</td>\n",
       "      <td>16.320863</td>\n",
       "      <td>1.082060</td>\n",
       "      <td>...</td>\n",
       "      <td>4.454055</td>\n",
       "      <td>0.835988</td>\n",
       "      <td>0.747055</td>\n",
       "      <td>78.628717</td>\n",
       "      <td>60.243891</td>\n",
       "      <td>4.908641</td>\n",
       "      <td>1.481185</td>\n",
       "      <td>1.582317</td>\n",
       "      <td>0.425143</td>\n",
       "      <td>33629.425268</td>\n",
       "    </tr>\n",
       "    <tr>\n",
       "      <th>min</th>\n",
       "      <td>0.000000</td>\n",
       "      <td>0.000000</td>\n",
       "      <td>0.000000</td>\n",
       "      <td>0.000000</td>\n",
       "      <td>0.000000</td>\n",
       "      <td>0.000000</td>\n",
       "      <td>0.000000</td>\n",
       "      <td>0.000000</td>\n",
       "      <td>0.000000</td>\n",
       "      <td>0.000000</td>\n",
       "      <td>...</td>\n",
       "      <td>0.000000</td>\n",
       "      <td>0.000000</td>\n",
       "      <td>0.000000</td>\n",
       "      <td>0.000000</td>\n",
       "      <td>0.000000</td>\n",
       "      <td>0.000000</td>\n",
       "      <td>0.000000</td>\n",
       "      <td>0.000000</td>\n",
       "      <td>0.000000</td>\n",
       "      <td>0.000000</td>\n",
       "    </tr>\n",
       "    <tr>\n",
       "      <th>25%</th>\n",
       "      <td>0.000000</td>\n",
       "      <td>0.000000</td>\n",
       "      <td>888.000000</td>\n",
       "      <td>2092.000000</td>\n",
       "      <td>18.000000</td>\n",
       "      <td>15.000000</td>\n",
       "      <td>0.000000</td>\n",
       "      <td>0.000000</td>\n",
       "      <td>0.000000</td>\n",
       "      <td>0.000000</td>\n",
       "      <td>...</td>\n",
       "      <td>0.000000</td>\n",
       "      <td>0.000000</td>\n",
       "      <td>0.000000</td>\n",
       "      <td>0.000000</td>\n",
       "      <td>0.000000</td>\n",
       "      <td>0.000000</td>\n",
       "      <td>0.000000</td>\n",
       "      <td>0.000000</td>\n",
       "      <td>0.000000</td>\n",
       "      <td>4686.750000</td>\n",
       "    </tr>\n",
       "    <tr>\n",
       "      <th>50%</th>\n",
       "      <td>553.000000</td>\n",
       "      <td>0.000000</td>\n",
       "      <td>3114.000000</td>\n",
       "      <td>5147.000000</td>\n",
       "      <td>129.000000</td>\n",
       "      <td>126.000000</td>\n",
       "      <td>0.000000</td>\n",
       "      <td>0.000000</td>\n",
       "      <td>1.000000</td>\n",
       "      <td>0.000000</td>\n",
       "      <td>...</td>\n",
       "      <td>0.000000</td>\n",
       "      <td>0.000000</td>\n",
       "      <td>0.000000</td>\n",
       "      <td>0.000000</td>\n",
       "      <td>0.000000</td>\n",
       "      <td>0.000000</td>\n",
       "      <td>0.000000</td>\n",
       "      <td>0.000000</td>\n",
       "      <td>0.000000</td>\n",
       "      <td>12519.500000</td>\n",
       "    </tr>\n",
       "    <tr>\n",
       "      <th>75%</th>\n",
       "      <td>4421.250000</td>\n",
       "      <td>1.000000</td>\n",
       "      <td>7421.500000</td>\n",
       "      <td>10435.000000</td>\n",
       "      <td>370.500000</td>\n",
       "      <td>303.250000</td>\n",
       "      <td>0.000000</td>\n",
       "      <td>5.000000</td>\n",
       "      <td>8.000000</td>\n",
       "      <td>0.000000</td>\n",
       "      <td>...</td>\n",
       "      <td>0.000000</td>\n",
       "      <td>0.000000</td>\n",
       "      <td>0.000000</td>\n",
       "      <td>4.000000</td>\n",
       "      <td>6.000000</td>\n",
       "      <td>0.000000</td>\n",
       "      <td>0.000000</td>\n",
       "      <td>0.000000</td>\n",
       "      <td>0.000000</td>\n",
       "      <td>25846.500000</td>\n",
       "    </tr>\n",
       "    <tr>\n",
       "      <th>max</th>\n",
       "      <td>522188.000000</td>\n",
       "      <td>124056.000000</td>\n",
       "      <td>107224.000000</td>\n",
       "      <td>108058.000000</td>\n",
       "      <td>77929.000000</td>\n",
       "      <td>38907.000000</td>\n",
       "      <td>28083.000000</td>\n",
       "      <td>164.000000</td>\n",
       "      <td>269.000000</td>\n",
       "      <td>49.000000</td>\n",
       "      <td>...</td>\n",
       "      <td>64.000000</td>\n",
       "      <td>12.000000</td>\n",
       "      <td>12.000000</td>\n",
       "      <td>1017.000000</td>\n",
       "      <td>777.000000</td>\n",
       "      <td>71.000000</td>\n",
       "      <td>28.000000</td>\n",
       "      <td>17.000000</td>\n",
       "      <td>4.000000</td>\n",
       "      <td>541978.000000</td>\n",
       "    </tr>\n",
       "  </tbody>\n",
       "</table>\n",
       "<p>8 rows × 25 columns</p>\n",
       "</div>"
      ],
      "text/plain": [
       "              permit  permit_recheck        handgun       long_gun  \\\n",
       "count   12736.000000     1375.000000   12740.000000   12741.000000   \n",
       "mean     6610.938128     1326.202182    6059.709262    7845.176281   \n",
       "std     24700.643313    10282.508342    8796.577531    9311.128953   \n",
       "min         0.000000        0.000000       0.000000       0.000000   \n",
       "25%         0.000000        0.000000     888.000000    2092.000000   \n",
       "50%       553.000000        0.000000    3114.000000    5147.000000   \n",
       "75%      4421.250000        1.000000    7421.500000   10435.000000   \n",
       "max    522188.000000   124056.000000  107224.000000  108058.000000   \n",
       "\n",
       "              other      multiple         admin  prepawn_handgun  \\\n",
       "count   5775.000000  12760.000000  12737.000000     10817.000000   \n",
       "mean     378.960866    271.361834     58.141949         4.871499   \n",
       "std     1337.569194    779.820198    599.162551        10.927737   \n",
       "min        0.000000      0.000000      0.000000         0.000000   \n",
       "25%       18.000000     15.000000      0.000000         0.000000   \n",
       "50%      129.000000    126.000000      0.000000         0.000000   \n",
       "75%      370.500000    303.250000      0.000000         5.000000   \n",
       "max    77929.000000  38907.000000  28083.000000       164.000000   \n",
       "\n",
       "       prepawn_long_gun  prepawn_other      ...        returned_other  \\\n",
       "count      10815.000000    5390.000000      ...           2090.000000   \n",
       "mean           7.787887       0.188868      ...              1.085167   \n",
       "std           16.320863       1.082060      ...              4.454055   \n",
       "min            0.000000       0.000000      ...              0.000000   \n",
       "25%            0.000000       0.000000      ...              0.000000   \n",
       "50%            1.000000       0.000000      ...              0.000000   \n",
       "75%            8.000000       0.000000      ...              0.000000   \n",
       "max          269.000000      49.000000      ...             64.000000   \n",
       "\n",
       "       rentals_handgun  rentals_long_gun  private_sale_handgun  \\\n",
       "count      1265.000000       1100.000000           3025.000000   \n",
       "mean          0.107510          0.107273             17.233058   \n",
       "std           0.835988          0.747055             78.628717   \n",
       "min           0.000000          0.000000              0.000000   \n",
       "25%           0.000000          0.000000              0.000000   \n",
       "50%           0.000000          0.000000              0.000000   \n",
       "75%           0.000000          0.000000              4.000000   \n",
       "max          12.000000         12.000000           1017.000000   \n",
       "\n",
       "       private_sale_long_gun  private_sale_other  return_to_seller_handgun  \\\n",
       "count            3025.000000         3025.000000               2750.000000   \n",
       "mean               13.771570            1.231736                  0.432727   \n",
       "std                60.243891            4.908641                  1.481185   \n",
       "min                 0.000000            0.000000                  0.000000   \n",
       "25%                 0.000000            0.000000                  0.000000   \n",
       "50%                 0.000000            0.000000                  0.000000   \n",
       "75%                 6.000000            0.000000                  0.000000   \n",
       "max               777.000000           71.000000                 28.000000   \n",
       "\n",
       "       return_to_seller_long_gun  return_to_seller_other         totals  \n",
       "count                3025.000000             2530.000000   12760.000000  \n",
       "mean                    0.481983                0.108696   22012.392085  \n",
       "std                     1.582317                0.425143   33629.425268  \n",
       "min                     0.000000                0.000000       0.000000  \n",
       "25%                     0.000000                0.000000    4686.750000  \n",
       "50%                     0.000000                0.000000   12519.500000  \n",
       "75%                     0.000000                0.000000   25846.500000  \n",
       "max                    17.000000                4.000000  541978.000000  \n",
       "\n",
       "[8 rows x 25 columns]"
      ]
     },
     "execution_count": 30,
     "metadata": {},
     "output_type": "execute_result"
    }
   ],
   "source": [
    "df_gun.describe()"
   ]
  },
  {
   "cell_type": "markdown",
   "metadata": {},
   "source": [
    "#### Already we can see that the average number of checks between 1998-2018 is 22,012. The most checks that were done in a month was over half a million."
   ]
  },
  {
   "cell_type": "code",
   "execution_count": null,
   "metadata": {},
   "outputs": [
    {
     "data": {
      "image/png": "[encoded data removed]",
      "text/plain": [
       "<matplotlib.figure.Figure at 0x2a5f3207550>"
      ]
     },
     "metadata": {},
     "output_type": "display_data"
    }
   ],
   "source": [
    "df_gun.hist(figsize=(20,20));"
   ]
  },
  {
   "cell_type": "code",
   "execution_count": null,
   "metadata": {},
   "outputs": [],
   "source": [
    "pd.plotting.scatter_matrix(df_gun, figsize=(30,30));"
   ]
  },
  {
   "cell_type": "markdown",
   "metadata": {},
   "source": [
    "#### This scatter plot shows mostly positive relationships with permits and totals as well as the private sale categories. From this information we can expect the number of checks to rise throughout the years in this dataset."
   ]
  },
  {
   "cell_type": "code",
   "execution_count": null,
   "metadata": {},
   "outputs": [],
   "source": [
    "# lets look at the census data now\n",
    "df_c17.head()"
   ]
  },
  {
   "cell_type": "code",
   "execution_count": null,
   "metadata": {},
   "outputs": [],
   "source": [
    "df_c17.info()"
   ]
  },
  {
   "cell_type": "markdown",
   "metadata": {},
   "source": [
    "#### The census data set is quite messy. We need to decide what we actually want to use for this investigation, clean up the column names, and change all of the strings into some integers we can work with. For this project, we will only need the population numbers from 2010-2017 from each region and state."
   ]
  },
  {
   "cell_type": "markdown",
   "metadata": {},
   "source": [
    "<a id='datacleaning'></a>\n",
    "# Data Cleaning\n",
    "\n",
    "To start the cleaning process, we'll start by narrowing down the rows and columns we need from the census data"
   ]
  },
  {
   "cell_type": "code",
   "execution_count": null,
   "metadata": {
    "collapsed": true
   },
   "outputs": [],
   "source": [
    "df_c17.head()"
   ]
  },
  {
   "cell_type": "markdown",
   "metadata": {},
   "source": [
    "#### Since this file was converted to a csv format, the columns and rows are a mess. We'll only need the rows starting at United States"
   ]
  },
  {
   "cell_type": "code",
   "execution_count": null,
   "metadata": {},
   "outputs": [],
   "source": [
    "# only take rows 3 through 59, these include the regions and states we need\n",
    "df_c17 = df_c17.iloc[3:59]\n",
    "\n",
    "#rename the columns\n",
    "df_c17.columns = ['region/state', 'census_april_2010', 'est_base', '2010', '2011', '2012', '2013', '2014', '2015', '2016', '2017']\n",
    "\n",
    "df_c17.head()"
   ]
  },
  {
   "cell_type": "markdown",
   "metadata": {},
   "source": [
    "#### As we saw in the wrangling process, every single number in this data set are strings, to easily convert them all at once, we can get rid of the region/state column, convert all of the strings to numbers, then bring the column back. We'll do this by first making two copies of the data set."
   ]
  },
  {
   "cell_type": "code",
   "execution_count": null,
   "metadata": {},
   "outputs": [],
   "source": [
    "#copy the data sets\n",
    "df1 = df_c17.copy()\n",
    "df2 = df_c17.copy()\n",
    "\n",
    "#drop the region/state column from the first copy\n",
    "df1.drop(columns = ['region/state'], inplace = True)\n",
    "\n",
    "#get rid of the commas in all of the numbers\n",
    "for col in df1.columns:\n",
    "    df1[col] = df1[col].replace({',':''}, regex=True)\n",
    "    \n",
    "#change all of the numbers to integers\n",
    "df1 = df1.apply(pd.to_numeric)\n",
    "\n",
    "df1.info()"
   ]
  },
  {
   "cell_type": "code",
   "execution_count": null,
   "metadata": {},
   "outputs": [],
   "source": [
    "# strangley, some of the state names had periods in the beginning of the string\n",
    "df2['region/state'] = df2['region/state'].map(lambda x: x.lstrip('.'))\n",
    "\n",
    "# change the region/state column into a list to add into other dataframe\n",
    "df2 = df2['region/state'].tolist()\n",
    "\n",
    "df2"
   ]
  },
  {
   "cell_type": "code",
   "execution_count": null,
   "metadata": {},
   "outputs": [],
   "source": [
    "# insert the list as a column onto the first copy that we cleaned\n",
    "df1.insert(loc=0, column='region/state', value=df2)\n",
    "\n",
    "df1.head()"
   ]
  },
  {
   "cell_type": "code",
   "execution_count": null,
   "metadata": {},
   "outputs": [],
   "source": [
    "# rename the dataframe\n",
    "df_census_clean = df1"
   ]
  },
  {
   "cell_type": "markdown",
   "metadata": {},
   "source": [
    "#### Now to bring in the census data for children under 18. This will allow us to calculate how much of the population is over 18 within each state."
   ]
  },
  {
   "cell_type": "code",
   "execution_count": null,
   "metadata": {},
   "outputs": [],
   "source": [
    "df_underage = pd.read_csv('pop_under_18.csv')\n",
    "\n",
    "df_underage.head()"
   ]
  },
  {
   "cell_type": "markdown",
   "metadata": {},
   "source": [
    "#### Like the other census data, this set was a bit messy. We will only need the state and estimated total columns. After we extract that data, we will join it with the other census data."
   ]
  },
  {
   "cell_type": "code",
   "execution_count": null,
   "metadata": {},
   "outputs": [],
   "source": [
    "# use the first row for the name of the columns\n",
    "df_underage = df_underage.rename(columns = df_underage.iloc[0])\n",
    "\n",
    "#drop the row with the orignal column names\n",
    "df_underage = df_underage.reindex(df_underage.index.drop(0))\n",
    "\n",
    "#drop all columns after estimated total column\n",
    "df_underage.drop(df_underage.columns[4:], axis = 1, inplace = True)\n",
    "\n",
    "#drop the Id and Id2 columns\n",
    "cols = [0,1]\n",
    "df_underage.drop(df_underage.columns[cols], axis=1, inplace=True)\n",
    "\n",
    "# rename columns\n",
    "df_underage.columns = ['geography', 'est_total']\n",
    "\n",
    "df_underage.head(1)"
   ]
  },
  {
   "cell_type": "markdown",
   "metadata": {},
   "source": [
    "#### Lets take a look at the data types to see if we need to convert anything"
   ]
  },
  {
   "cell_type": "code",
   "execution_count": null,
   "metadata": {},
   "outputs": [],
   "source": [
    "df_underage.info()"
   ]
  },
  {
   "cell_type": "code",
   "execution_count": null,
   "metadata": {},
   "outputs": [],
   "source": [
    "# change the est_total column to integers\n",
    "df_underage['est_total'] = df_underage['est_total'].astype(int)"
   ]
  },
  {
   "cell_type": "markdown",
   "metadata": {},
   "source": [
    "#### For the next step, we need to join df_underage with df_census clean. This will be done by creating a python dictionary with the underage dataframe, and then mapping the matching states of the census data with the values of df_underage."
   ]
  },
  {
   "cell_type": "code",
   "execution_count": null,
   "metadata": {},
   "outputs": [],
   "source": [
    "# create empty dictionary\n",
    "df_underage_dict = {}\n",
    "\n",
    "# write a loop that takes the assigns the states as keys, and the totals as values\n",
    "x = 0\n",
    "while x < len(df_underage):\n",
    "    state_name = df_underage['geography'].iloc[x]\n",
    "    total_num = df_underage['est_total'].iloc[x]\n",
    "    df_underage_dict[state_name] = total_num\n",
    "    x = x+1\n",
    "    \n",
    "df_underage_dict"
   ]
  },
  {
   "cell_type": "code",
   "execution_count": null,
   "metadata": {},
   "outputs": [],
   "source": [
    "# map dictionary to df_census_clean\n",
    "df_census_clean['pop_underage_2016'] = df_census_clean['region/state'].map(df_underage_dict)\n",
    "\n",
    "df_census_clean.head(8)"
   ]
  },
  {
   "cell_type": "markdown",
   "metadata": {},
   "source": [
    "#### Since we don't need or have regional and national data for children under 18, a NaN is put in place of the row. We should change it to an integer."
   ]
  },
  {
   "cell_type": "code",
   "execution_count": null,
   "metadata": {},
   "outputs": [],
   "source": [
    "# fill NaN with zeros\n",
    "df_census_clean['pop_underage_2016'].fillna(0, inplace=True)"
   ]
  },
  {
   "cell_type": "markdown",
   "metadata": {},
   "source": [
    "#### Later on in the analysis, we will need the amount of background checks that were done in 2016. Once we get that data, we'll add it as a column in the census data."
   ]
  },
  {
   "cell_type": "code",
   "execution_count": null,
   "metadata": {},
   "outputs": [],
   "source": [
    "# get the total checks by each state and each month\n",
    "checks_by_state = df_gun.groupby(['state', 'month'])['totals'].sum().reset_index()\n",
    "\n",
    "# data frame for all checks done in 2016\n",
    "df_gun_2016 = checks_by_state[checks_by_state.month.str.contains('2016') == True]\n",
    "\n",
    "# get totals in 2016 in each state\n",
    "df_gun_2016 = df_gun_2016.groupby('state')['totals'].sum()\n",
    "\n",
    "# change to dict\n",
    "df_gun_2016 = df_gun_2016.to_dict()\n",
    "\n",
    "# map values of checks in 2016 to state names in the census data\n",
    "df_census_clean['gun_permits_2016'] = df_census_clean['region/state'].map(df_gun_2016)\n",
    "\n",
    "df_census_clean.head()"
   ]
  },
  {
   "cell_type": "code",
   "execution_count": null,
   "metadata": {},
   "outputs": [],
   "source": [
    "# change NaN to 0\n",
    "df_census_clean['gun_permits_2016'].fillna(0, inplace=True)\n",
    "\n",
    "df_census_clean.head(8)"
   ]
  },
  {
   "cell_type": "markdown",
   "metadata": {},
   "source": [
    "<a id='eda'></a>\n",
    "# Exploratory Data Analysis\n",
    "\n",
    "## What is the overall trend of gun purchases?\n",
    "\n",
    "Using the totals from the NICS data, we can see what the overall trend of gun sales are from 1998 to 2018"
   ]
  },
  {
   "cell_type": "code",
   "execution_count": null,
   "metadata": {
    "collapsed": true
   },
   "outputs": [],
   "source": [
    "# sum the totals by month\n",
    "totals = df_gun.groupby(\"month\")[\"totals\"].sum()\n",
    "\n",
    "# plot graph\n",
    "tick_placement = pd.np.arange(2, len(totals), 12)\n",
    "plt.style.use('seaborn')\n",
    "ax = totals.plot(figsize=(20,8))\n",
    "\n",
    "\n",
    "ax.set_title(\"Monthly NICS Background Check Totals Since Nov. 1998\", fontsize=24)\n",
    "ax.set_yticklabels([ \"{0:,.0f}\".format(y) for y in ax.get_yticks() ], fontsize=12);\n",
    "plt.setp(ax.get_xticklabels(), rotation=0, fontsize=12)\n",
    "ax.set_xticks(tick_placement)\n",
    "ax.set_xticklabels([ totals.index[i].split(\"-\")[0] for i in tick_placement ])\n",
    "ax.set_xlim(0, len(totals) - 1)\n",
    "ax.set_xlabel(\"\")"
   ]
  },
  {
   "cell_type": "markdown",
   "metadata": {},
   "source": [
    "#### This visualization shows an exponential increase in background checks since 1998. Each spike shows that gun sales greatly increase in December of each year. The greatest spike being in 2015 due to Black Friday sales. In a report from <a href='https://www.thetrace.org/2015/11/black-friday-gun-sales-background-checks/'>The Trace</a>, it was found that Black Friday in 2015 broke a record in a single 24-hour period with a total of 185,345 background checks processed, or slightly more than two background checks every second. This excerpt has an important note:\n",
    "\n",
    "> The FBI’s background check numbers come with caveats: As seen in the late February-early March 2014 bubble, many checks are for concealed carry permits, not actual gun sales. Kentucky runs a new check on each concealed carry license holder each month. And of course, the FBI’s numbers don’t include private gun sales, many of which do not require a background check. A forthcoming study conducted by Harvard researchers <a href='https://www.thetrace.org/2015/10/private-sale-loophole-background-check-harvard-research/'>found that roughly 40 percent</a> of respondents had acquired their most recent firearm without going through a background check. Despite those vagaries, the FBI’s NICS numbers are widely accepted as the best proxy for total gun sales in a given time period."
   ]
  },
  {
   "cell_type": "markdown",
   "metadata": {},
   "source": [
    "## How many total checks have there been in each state since 1998?\n",
    "\n",
    "For this visualization, I grouped all of the states together and summed up the total checks per state since 1998"
   ]
  },
  {
   "cell_type": "code",
   "execution_count": null,
   "metadata": {
    "collapsed": true
   },
   "outputs": [],
   "source": [
    "# group the states and sum the totals\n",
    "state_totals = checks_by_state.groupby('state')['totals'].sum()\n",
    "\n",
    "# plot graph\n",
    "state_total_tick_placement = pd.np.arange(len(state_totals))\n",
    "plt.style.use('seaborn')\n",
    "state_ax = state_totals.plot(kind='bar',figsize=(20,8))\n",
    "\n",
    "state_ax.set_title(\"NICS Background Check Totals By State Since Nov. 1998\", fontsize=24)\n",
    "state_ax.set_yticklabels([ \"{0:,.0f}\".format(y) for y in state_ax.get_yticks() ], fontsize=12);\n",
    "plt.setp(state_ax.get_xticklabels(), fontsize=12)\n",
    "state_ax.set_xticks(state_total_tick_placement)\n",
    "state_ax.set_xticklabels(state_totals.index)\n",
    "state_ax.set_xlim(0, len(state_totals) - 1)\n",
    "state_ax.set_xlabel(\"\")"
   ]
  },
  {
   "cell_type": "markdown",
   "metadata": {},
   "source": [
    "#### As you can see in this graph, Kentucky has the most activity in background checks for guns since 1998. The state is known to have the least restrictive gun control laws compared to other states. In a summary of <a href='https://en.wikipedia.org/wiki/Gun_laws_in_Kentucky'>gun laws in Kentucky</a>, you do not need a state permit to purchase, you do not need to register your firearm, there is no assault weapon law, magazine capacity restriction, and an owner license is not required. Background checks for for private sales are not required as well. The concealed carry laws have also loosened. On March 16, 2011, a change to KRS <a href='http://www.lrc.ky.gov/Statutes/statute.aspx?id=43448'>§ 527.020</a> was signed into law by Governor Steve Beshear allowing guns to be carried without a permit in any factory-installed compartment within the passenger area of a vehicle. Previously, such carry was only allowed in a glove compartment.\n",
    "\n"
   ]
  },
  {
   "cell_type": "markdown",
   "metadata": {},
   "source": [
    "#### In a <a href='https://www.thetrace.org/2016/11/nra-gun-record-rating-system-straight-a-students/'>report by The Trace</a>, Kentucky has the nation's highest percentage of legislators who got a least an A-minus grade from the NRA. This rating system gives members of Congress a grade ranging from A to F that reflects their voting record on gun rights.\n",
    "\n",
    "> There are currently 35 states where more than half of all state legislators have a grade of A- or better, according to an analysis of data provided by <a href='https://votesmart.org/'>Vote Smart</a>, a non-partisan, non-profit research organization. In 14 states, including most of those in the gun belt, that majority exceeds two thirds, reaching or approaching veto-proof. In Kentucky and Oklahoma, the number extends beyond 80 percent."
   ]
  },
  {
   "cell_type": "markdown",
   "metadata": {},
   "source": [
    "#### Kentucky has also been the victim of recent gun violence. <a href='https://www.cnn.com/2018/01/23/us/kentucky-high-school-shooting/index.html'>On January 23, 2018</a>, 2 students were killed and 18 were injured as a shooter opened fire at a Marshall County High School. The event has led to the introduction of <a href='http://www.lex18.com/story/37602072/state-lawmakers-introduce-gun-control-legislation'>stricter gun laws</a> for the state.\n",
    "\n",
    "#### In Texas, the second highest state that has activity of firearm background checks on this graph, just one day before the event in Kentucky, a <a href='https://nypost.com/2018/01/22/15-year-old-girl-wounded-in-shooting-at-texas-high-school/'>15-year old girl</a> was injured at a school shooting."
   ]
  },
  {
   "cell_type": "markdown",
   "metadata": {},
   "source": [
    "## How much have firearm background checks grown since 1999?\n",
    "\n",
    "I chose to start at 1999 because when calculating percentage changes from 1998, the numbers are quite large. This was due to very little background check numbers in November of 1998, when the NICS program was created. Below I will show both percentage changes since 1998 and 1999. The latter year gives a more clear picture of how much the checks have grown."
   ]
  },
  {
   "cell_type": "code",
   "execution_count": null,
   "metadata": {},
   "outputs": [],
   "source": [
    "# a loop that uses the total checks in each state in November 1998\n",
    "# and compares it to the total checks in 2018\n",
    "x=0\n",
    "change_dict = {}\n",
    "while x < len(checks_by_state):\n",
    "    og_num = checks_by_state.iloc[x]['totals']\n",
    "    new_num = checks_by_state.iloc[x + 231]['totals']\n",
    "    decrease = new_num - og_num\n",
    "    perc_change = round(decrease / og_num * 100, 0)\n",
    "    change_dict[checks_by_state.iloc[x]['state']] = perc_change\n",
    "    x = x + 232"
   ]
  },
  {
   "cell_type": "code",
   "execution_count": null,
   "metadata": {},
   "outputs": [],
   "source": [
    "# change dictionary to a pandas Series\n",
    "df_percent_change = pd.Series(change_dict, name = 'percent_change')\n",
    "df_percent_change.index.name = 'state'\n",
    "df_percent_change"
   ]
  },
  {
   "cell_type": "code",
   "execution_count": null,
   "metadata": {},
   "outputs": [],
   "source": [
    "# drop rows that have inf values\n",
    "df_percent_change = df_percent_change.replace([np.inf, -np.inf], np.nan).dropna()\n",
    "\n",
    "# sort from biggest to smallest\n",
    "df_percent_change = df_percent_change.sort_values(ascending = False)\n",
    "\n",
    "# plot graph\n",
    "percent_total_tick_placement = pd.np.arange(len(df_percent_change))\n",
    "plt.style.use('seaborn')\n",
    "percent_ax = df_percent_change.plot(kind='bar',figsize=(20,8))\n",
    "\n",
    "percent_ax.set_title(\"Firearm Background Check Growth Rate by State Since Nov. 1998\", fontsize=24)\n",
    "percent_ax.set_yticklabels([ \"{0:,.0f}\".format(y) for y in percent_ax.get_yticks() ], fontsize=12);\n",
    "plt.setp(percent_ax.get_xticklabels(), fontsize=12)\n",
    "percent_ax.set_xticks(percent_total_tick_placement)\n",
    "percent_ax.set_xticklabels(df_percent_change.index)\n",
    "percent_ax.set_xlim(0, len(df_percent_change) - 1)\n",
    "percent_ax.set_ylabel('Percent')\n",
    "percent_ax.set_xlabel(\"\")"
   ]
  },
  {
   "cell_type": "markdown",
   "metadata": {},
   "source": [
    "#### As you can see, a growth of over 800,000% seems quite large. I further explored the numbers in November"
   ]
  },
  {
   "cell_type": "code",
   "execution_count": null,
   "metadata": {},
   "outputs": [],
   "source": [
    "# november 1998 totals in Illinois\n",
    "checks_by_state[checks_by_state['state'] == 'Illinois'].iloc[0]"
   ]
  },
  {
   "cell_type": "code",
   "execution_count": null,
   "metadata": {},
   "outputs": [],
   "source": [
    "# Pennsylvania\n",
    "checks_by_state[checks_by_state['state'] == 'Pennsylvania'].iloc[0]"
   ]
  },
  {
   "cell_type": "code",
   "execution_count": null,
   "metadata": {},
   "outputs": [],
   "source": [
    "# South Carolina\n",
    "checks_by_state[checks_by_state['state'] == 'South Carolina'].iloc[0]"
   ]
  },
  {
   "cell_type": "code",
   "execution_count": null,
   "metadata": {},
   "outputs": [],
   "source": [
    "# Virginia\n",
    "checks_by_state[checks_by_state['state'] == 'Virginia'].iloc[0]"
   ]
  },
  {
   "cell_type": "code",
   "execution_count": null,
   "metadata": {},
   "outputs": [],
   "source": [
    "# totals in november 1998 for every state\n",
    "df_nov98_totals = checks_by_state[checks_by_state.month.str.contains('1998-11') == True]\n",
    "\n",
    "df_nov98_totals['totals'].mean()"
   ]
  },
  {
   "cell_type": "markdown",
   "metadata": {},
   "source": [
    "#### After seeing how low the numbers were in November, I decided to check the amount of growth since December of 1999 for each state"
   ]
  },
  {
   "cell_type": "code",
   "execution_count": null,
   "metadata": {},
   "outputs": [],
   "source": [
    "# dataset that excludes November 1998\n",
    "checks_by_state_clean = checks_by_state[checks_by_state.month.str.contains('1998-11') == False]\n",
    "\n",
    "# using same method as above to make a dictionary \n",
    "# and turn it into a pandas Series\n",
    "x=0\n",
    "change_dict_clean = {}\n",
    "while x < len(checks_by_state_clean):\n",
    "    og_num = checks_by_state_clean.iloc[x]['totals']\n",
    "    new_num = checks_by_state_clean.iloc[x + 230]['totals']\n",
    "    decrease = new_num - og_num\n",
    "    perc_change = round(decrease / og_num * 100, 0)\n",
    "    change_dict_clean[checks_by_state_clean.iloc[x]['state']] = perc_change\n",
    "    x = x + 231"
   ]
  },
  {
   "cell_type": "code",
   "execution_count": null,
   "metadata": {},
   "outputs": [],
   "source": [
    "df_percent_change_clean = pd.Series(change_dict_clean, name = 'percent_change')\n",
    "df_percent_change_clean.index.name = 'state'\n",
    "df_percent_change_clean"
   ]
  },
  {
   "cell_type": "code",
   "execution_count": null,
   "metadata": {},
   "outputs": [],
   "source": [
    "# drop inf\n",
    "df_percent_change_clean = df_percent_change_clean.replace([np.inf, -np.inf], np.nan).dropna()\n",
    "\n",
    "# sort biggest to smallest\n",
    "df_percent_change_clean = df_percent_change_clean.sort_values(ascending = False)\n",
    "\n",
    "# plot graph\n",
    "percent_total_tick_placement_clean = pd.np.arange(len(df_percent_change_clean))\n",
    "plt.style.use('seaborn')\n",
    "percent_ax_clean = df_percent_change_clean.plot(kind='bar',figsize=(20,8))\n",
    "\n",
    "percent_ax_clean.set_title(\"Firearm Background Check Growth Rate by State Since Dec. 1999\", fontsize=24)\n",
    "percent_ax_clean.set_yticklabels([ \"{0:,.0f}\".format(y) for y in percent_ax_clean.get_yticks() ], fontsize=12);\n",
    "plt.setp(percent_ax_clean.get_xticklabels(), fontsize=12)\n",
    "percent_ax_clean.set_xticks(percent_total_tick_placement_clean)\n",
    "percent_ax_clean.set_xticklabels(df_percent_change_clean.index)\n",
    "percent_ax_clean.set_xlim(0, len(df_percent_change_clean) - 1)\n",
    "percent_ax_clean.set_ylabel('Percent')\n",
    "percent_ax_clean.set_xlabel(\"\")"
   ]
  },
  {
   "cell_type": "markdown",
   "metadata": {},
   "source": [
    "#### This graph gives a better picture of how firearm background checks have grown since the beginning of the NICS system. Georgia, Kentucky, and Massachusetts, have the highest growth rates. Guam also does, but the numbers for the state are only in the hundreds and do not have a significant impact on the data overall.\n",
    "\n",
    "#### Using information from this graph, I then created a graph that showed each states background checks over the years."
   ]
  },
  {
   "cell_type": "code",
   "execution_count": null,
   "metadata": {},
   "outputs": [],
   "source": [
    "# create a data frame for each state that has total checks by month\n",
    "# Georgia\n",
    "checks_by_state_georgia = checks_by_state_clean[checks_by_state_clean['state']=='Georgia']\n",
    "checks_by_state_georgia = checks_by_state_georgia.groupby('month')['totals'].sum()\n",
    "\n",
    "# Kentucky\n",
    "checks_by_state_kentucky = checks_by_state_clean[checks_by_state_clean['state']=='Kentucky']\n",
    "checks_by_state_kentucky = checks_by_state_kentucky.groupby('month')['totals'].sum()\n",
    "\n",
    "# Massachusetts\n",
    "checks_by_state_mass = checks_by_state_clean[checks_by_state_clean['state']=='Massachusetts']\n",
    "checks_by_state_mass = checks_by_state_mass.groupby('month')['totals'].sum()"
   ]
  },
  {
   "cell_type": "code",
   "execution_count": null,
   "metadata": {},
   "outputs": [],
   "source": [
    "# plot graph\n",
    "growth_rates_tick_placement = pd.np.arange(2, len(checks_by_state_georgia), 12)\n",
    "plt.style.use('seaborn')\n",
    "ax_state_growth = checks_by_state_georgia.plot(figsize=(20,8), label='Georgia')\n",
    "plt.plot(checks_by_state_kentucky, label='Kentucky')\n",
    "plt.plot(checks_by_state_mass, label='Massachusetts')\n",
    "plt.legend()\n",
    "\n",
    "ax_state_growth.set_title(\"Monthly NICS Gun Permit Check Totals For States With Most Growth\", fontsize=24)\n",
    "ax_state_growth.set_yticklabels([ \"{0:,.0f}\".format(y) for y in ax_state_growth.get_yticks() ], fontsize=12);\n",
    "plt.setp(ax_state_growth.get_xticklabels(), rotation=0, fontsize=12)\n",
    "ax_state_growth.set_xticks(growth_rates_tick_placement)\n",
    "ax_state_growth.set_xticklabels([checks_by_state_georgia.index[i].split(\"-\")[0] for i in growth_rates_tick_placement])\n",
    "ax_state_growth.set_xlim(0, len(checks_by_state_georgia) - 1)\n",
    "ax_state_growth.set_xlabel(\"\")"
   ]
  },
  {
   "cell_type": "markdown",
   "metadata": {},
   "source": [
    "#### Activity in Kentucky is significantly higher than the other two states with high growth rates. Each state shows a big spike in December of each year.\n",
    "\n",
    "#### In the next visualization, I'll show the percentage of firearm background checks compared to the population of each state that are over 18 years old. The <a href='https://factfinder.census.gov/faces/tableservices/jsf/pages/productview.xhtml?pid=ACS_16_1YR_B09001&prodType=table'>census data for underage children</a> was only available up to the year 2016."
   ]
  },
  {
   "cell_type": "code",
   "execution_count": null,
   "metadata": {},
   "outputs": [],
   "source": [
    "# we'll use the same method of creating a dictionary\n",
    "# and turning it into a series\n",
    "perc_guns_2016_dict = {}\n",
    "x=5\n",
    "while x < len(df_census_clean):\n",
    "    # subtracting the under 18 population to the census\n",
    "    not_underage = df_census_clean['2016'].iloc[x] - df_census_clean['pop_underage_2016'].iloc[x]\n",
    "    # number of background checks in 2016\n",
    "    num_guns = df_census_clean['gun_permits_2016'].iloc[x]\n",
    "    # percentage\n",
    "    percent = round(num_guns/not_underage * 100, 2)\n",
    "    state = df_census_clean['region/state'].iloc[x]\n",
    "    perc_guns_2016_dict[state] = percent\n",
    "    x = x + 1"
   ]
  },
  {
   "cell_type": "code",
   "execution_count": null,
   "metadata": {},
   "outputs": [],
   "source": [
    "perc_guns_2016_dict"
   ]
  },
  {
   "cell_type": "code",
   "execution_count": null,
   "metadata": {},
   "outputs": [],
   "source": [
    "# change dict into series and sort from biggest to smallest\n",
    "df_perc_guns_2016 = pd.Series(perc_guns_2016_dict, name = 'percent')\n",
    "df_perc_guns_2016.index.name = 'state'\n",
    "df_perc_guns_2016 = df_perc_guns_2016.sort_values(ascending=False)\n",
    "\n",
    "# plot graph\n",
    "percent_total_tick_placement_2016 = pd.np.arange(len(df_perc_guns_2016))\n",
    "plt.style.use('seaborn')\n",
    "percent_ax_2016 = df_perc_guns_2016.plot(kind='bar',figsize=(20,8))\n",
    "\n",
    "percent_ax_2016.set_title(\"Number of Firearm Background Checks Compared to State Population in 2016\", fontsize=24)\n",
    "plt.setp(percent_ax_2016.get_xticklabels(), fontsize=12)\n",
    "percent_ax_2016.set_xticks(percent_total_tick_placement_2016)\n",
    "percent_ax_2016.set_xticklabels(df_perc_guns_2016.index)\n",
    "percent_ax_2016.set_xlim(0, len(df_perc_guns_2016) - 1)\n",
    "percent_ax_2016.set_ylabel('Percent')\n",
    "percent_ax_2016.set_xlabel(\"\")"
   ]
  },
  {
   "cell_type": "markdown",
   "metadata": {},
   "source": [
    "#### With this visualization, we can get a picture of the amount of the population in each state participates in the NICS background checks. Kentucky is at 107%, which further shows the high amount of background check activity for guns in the state. This percentage comes with a caveat. Kentucky runs a new check on each concealed carry license holder each month, adding to the total number of checks for the state."
   ]
  },
  {
   "cell_type": "markdown",
   "metadata": {},
   "source": [
    "<a id='conclusions'></a>\n",
    "# Conclusions\n",
    "\n",
    "This analysis allowed me to see the bigger picture when it comes to guns in America. Even though I didn't calculate actual gun sales, the data still allowed me to see trends between each state and all over the U.S. These are the conclusions I have arrived at:\n",
    "\n",
    "### A one-to-one comparison cannot be made on background checks and gun sales\n",
    "\n",
    "As noted in the introduction of this analysis, background checks can give you an idea of gun sale activity, but a one-to-one comparison cannot be made. I chose not to estimate gun sales numbers for this reason. Although it is debated on the exact percentage, researchers are discovering that a significant amount of gun sales happen without background checks. In a <a href='https://www.theguardian.com/us-news/2017/jan/02/guns-state-background-checks-study'>report by The Guardian</a>:\n",
    "\n",
    ">The 2015 survey found that just 22% of gun owners who had acquired a gun in the previous two years reported doing so without a background check. Gun owners who had acquired a gun earlier than that – between two and five years before 2015, or more than five years before – were more likely to remember doing so without a background check. A full 57% of gun owners who reported acquiring their most recent gun more than five years before 2015 reported getting the gun without a background check. Because the survey relied on the memories of the participants, the researchers wrote, the more recent gun acquisition data might be more accurate.\n",
    "\n",
    "In a similar <a href='https://www.thetrace.org/2015/10/private-sale-loophole-background-check-harvard-research/'>report by The Trace</a>:\n",
    "\n",
    "> * **Roughly 70 percent**: Gun owners who purchased their most recent gun. \n",
    "* **Roughly 30 percent**: Gun owners who did not purchase their most recent gun, instead obtaining it through a transfer (i.e., a gift, an inheritance, a swap between friends). \n",
    "* Zeroing in on the population of gun buyers, about 34 percent did not go through a background check.\n",
    "* Among the gun owners who got their firearms through a transfer, roughly two-thirds did not go through a background check.\n",
    "\n",
    "> Add it up, and it works out to:  \n",
    "* **Roughly 60 percent**: the share of gun owners surveyed who did go through a background check when they obtained (through sale or transfer) their latest gun.\n",
    "* **Roughly 40 percent**: the share of gun owners who did not.\n",
    "\n",
    "#### NICS Background check activity has steadily risen since 1998\n",
    "\n",
    "In the first visualization, the graph showed a steady increase in background checks for guns since 1998. The spikes in December likely due to <a href='https://www.thetrace.org/2015/11/black-friday-gun-sales-background-checks/'>Black Friday sales</a>. Spikes that do not happen in December could be due to <a href='https://www.nytimes.com/interactive/2015/12/10/us/gun-sales-terrorism-obama-restrictions.html'>calls for new gun restrictions</a>.\n",
    "\n",
    "#### Kentucky has the highest amount of background checks since 1998\n",
    "\n",
    "Along with the state having the highest amount of checks, the state has some of the highest background check activity, as well as the highest background check growth. Kentucky has some of the <a href='https://en.wikipedia.org/wiki/Gun_laws_in_Kentucky'>least restrictive gun control</a> compared to other states, and <a href='https://www.thetrace.org/2016/11/nra-gun-record-rating-system-straight-a-students/'>over 80% of legislatures recieve a high grade from the NRA</a> on gun legislation. <a href='http://www.lex18.com/story/37602072/state-lawmakers-introduce-gun-control-legislation'>Stricter gun laws</a> have been introduced due to <a href='https://www.cnn.com/2018/01/23/us/kentucky-high-school-shooting/index.html'>recent gun violence</a>. The last graph in this report shows that more firearm background checks happen in Kentucky than people over 18. This shows high activity, but also has a caveat. Kentucky runs a new check on each concealed carry license holder each month, adding to the total number of checks for the state."
   ]
  },
  {
   "cell_type": "markdown",
   "metadata": {},
   "source": [
    "<a id='sourceindex'></a>\n",
    "# Source Index\n",
    "\n",
    "###### Data\n",
    "* U.S. Census Bureau: \n",
    "    * <a href='https://www.census.gov/data/tables/2017/demo/popest/state-total.html'>Annual population estimates for the U.S.</a>\n",
    "    * <a href='https://factfinder.census.gov/faces/tableservices/jsf/pages/productview.xhtml?pid=ACS_16_1YR_B09001&prodType=table'> Population Under 18 Years</a>\n",
    "* FBI National Instant Criminal Background Check System:\n",
    "    * <a href='https://www.fbi.gov/services/cjis/nics'>NICS webpage</a>\n",
    "    * <a href='https://github.com/BuzzFeedNews/nics-firearm-background-checks/tree/master/data'>Data repository</a>\n",
    "    \n",
    "###### Reports\n",
    "* <a href='https://www.thetrace.org/2015/11/black-friday-gun-sales-background-checks/'>FBI: Black Friday 2015 Broke Record for Gun Sales</a>\n",
    "* <a href='https://www.thetrace.org/2015/10/private-sale-loophole-background-check-harvard-research/'>Just How Many People Get Guns Without a Background Check? Fast-Tracked Research Is Set to Provide an Answer</a>\n",
    "* <a href='https://en.wikipedia.org/wiki/Gun_laws_in_Kentucky'>Gun laws in Kentucky</a>\n",
    "* <a href='http://www.lrc.ky.gov/Statutes/statute.aspx?id=43448'>527.020 Carrying concealed deadly weapon</a>\n",
    "* <a href='https://www.thetrace.org/2016/11/nra-gun-record-rating-system-straight-a-students/'>The NRA’s Straight-A Students</a>\n",
    "* <a href='https://www.cnn.com/2018/01/23/us/kentucky-high-school-shooting/index.html'>Kentucky school shooting: 2 students killed, 18 injured</a>\n",
    "* <a href='http://www.lex18.com/story/37602072/state-lawmakers-introduce-gun-control-legislation'>http://www.lex18.com/story/37602072/state-lawmakers-introduce-gun-control-legislation</a>\n",
    "* <a href='https://nypost.com/2018/01/22/15-year-old-girl-wounded-in-shooting-at-texas-high-school/'>15-year-old girl wounded in shooting at Texas high school</a>\n",
    "* <a href='https://www.theguardian.com/us-news/2017/jan/02/guns-state-background-checks-study'>\n",
    "Just one in five Americans obtains gun without background check, survey finds</a>\n",
    "* <a href='https://www.thetrace.org/2015/10/private-sale-loophole-background-check-harvard-research/'>Just How Many People Get Guns Without a Background Check? Fast-Tracked Research Is Set to Provide an Answer</a>"
   ]
  }
 ],
 "metadata": {
  "kernelspec": {
   "display_name": "Python 3",
   "language": "python",
   "name": "python3"
  },
  "language_info": {
   "codemirror_mode": {
    "name": "ipython",
    "version": 3
   },
   "file_extension": ".py",
   "mimetype": "text/x-python",
   "name": "python",
   "nbconvert_exporter": "python",
   "pygments_lexer": "ipython3",
   "version": "3.6.4"
  }
 },
 "nbformat": 4,
 "nbformat_minor": 2
}
